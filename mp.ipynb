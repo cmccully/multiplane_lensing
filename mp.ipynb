{
 "metadata": {
  "name": "",
  "signature": "sha256:cb054fb413a1aa3519ccc88779f5f558c227382fd25949b836cec0d5a4dcf8e8"
 },
 "nbformat": 3,
 "nbformat_minor": 0,
 "worksheets": [
  {
   "cells": [
    {
     "cell_type": "code",
     "collapsed": false,
     "input": [
      "from sympy import *\n",
      "init_printing()"
     ],
     "language": "python",
     "metadata": {},
     "outputs": [],
     "prompt_number": 1
    },
    {
     "cell_type": "code",
     "collapsed": false,
     "input": [
      "I2 = Identity(2)"
     ],
     "language": "python",
     "metadata": {},
     "outputs": [],
     "prompt_number": 2
    },
    {
     "cell_type": "code",
     "collapsed": false,
     "input": [
      "def k(i): return Symbol('kappa%i'%i)"
     ],
     "language": "python",
     "metadata": {},
     "outputs": [],
     "prompt_number": 3
    },
    {
     "cell_type": "code",
     "collapsed": false,
     "input": [
      "def G(i): \n",
      "    if i in voids:\n",
      "        g = k(i) * I2\n",
      "    elif i==l:\n",
      "        g = 0 * I2\n",
      "    else:\n",
      "        g = MatrixSymbol('Gamma%i'%i, 2,2)\n",
      "    return g"
     ],
     "language": "python",
     "metadata": {},
     "outputs": [],
     "prompt_number": 4
    },
    {
     "cell_type": "code",
     "collapsed": false,
     "input": [
      "def beta(i,j): \n",
      "    if j == s: b = 1\n",
      "    elif j ==l: b = Symbol('beta_%i\\ell'%i)\n",
      "    elif i ==l: b = Symbol('beta_\\ell%i'%j)\n",
      "    else: b = Symbol('beta%i%i'%(i,j))\n",
      "    return b"
     ],
     "language": "python",
     "metadata": {},
     "outputs": [],
     "prompt_number": 5
    },
    {
     "cell_type": "code",
     "collapsed": false,
     "input": [
      "l = 5\n",
      "s = 6\n",
      "voids = [3,4]"
     ],
     "language": "python",
     "metadata": {},
     "outputs": [],
     "prompt_number": 6
    },
    {
     "cell_type": "code",
     "collapsed": false,
     "input": [
      "def B(j):\n",
      "    if j == 1:\n",
      "        b = I2\n",
      "    else: \n",
      "        for i in range(1,j): \n",
      "            if i == 1: \n",
      "                sumval = beta(i,j) * G(i) * B(i)\n",
      "            else: \n",
      "                sumval += simplify(beta(i,j)* G(i) * B(i))\n",
      "        b = I2 - sumval\n",
      "    return simplify(b)"
     ],
     "language": "python",
     "metadata": {},
     "outputs": [],
     "prompt_number": 7
    },
    {
     "cell_type": "code",
     "collapsed": false,
     "input": [
      "def Cl(j):\n",
      "    if j == l+1:\n",
      "        cl = beta(l,j)*I2\n",
      "    else: \n",
      "        for i in range(l+1,j): \n",
      "            if i == l+1: \n",
      "                sumval = beta(i,j) * G(i) * Cl(i)\n",
      "            else: \n",
      "                sumval += simplify(beta(i,j)* G(i) * Cl(i))\n",
      "        cl = beta(l,j)*I2 - sumval\n",
      "    return simplify(cl)"
     ],
     "language": "python",
     "metadata": {},
     "outputs": [],
     "prompt_number": 8
    },
    {
     "cell_type": "code",
     "collapsed": false,
     "input": [
      "B(1)"
     ],
     "language": "python",
     "metadata": {},
     "outputs": [
      {
       "latex": [
        "$$\\mathbb{I}$$"
       ],
       "metadata": {},
       "output_type": "pyout",
       "png": "[encoded data removed]",
       "prompt_number": 9,
       "text": [
        "I"
       ]
      }
     ],
     "prompt_number": 9
    },
    {
     "cell_type": "code",
     "collapsed": false,
     "input": [
      "B(2)"
     ],
     "language": "python",
     "metadata": {},
     "outputs": [
      {
       "latex": [
        "$$\\mathbb{I} + - \\beta_{12} \\Gamma_{1}$$"
       ],
       "metadata": {},
       "output_type": "pyout",
       "png": "[encoded data removed]",
       "prompt_number": 10,
       "text": [
        "I + -\u03b2\u2081\u2082\u22c5\u0393\u2081"
       ]
      }
     ],
     "prompt_number": 10
    },
    {
     "cell_type": "code",
     "collapsed": false,
     "input": [
      "B(3)"
     ],
     "language": "python",
     "metadata": {},
     "outputs": [
      {
       "latex": [
        "$$\\mathbb{I} + -1 \\left(\\beta_{13} \\Gamma_{1} + \\beta_{23} \\Gamma_{2} \\left(\\mathbb{I} + - \\beta_{12} \\Gamma_{1}\\right)\\right)$$"
       ],
       "metadata": {},
       "output_type": "pyout",
       "png": "[encoded data removed]",
       "prompt_number": 11,
       "text": [
        "I + -(\u03b2\u2081\u2083\u22c5\u0393\u2081 + \u03b2\u2082\u2083\u22c5\u0393\u2082\u22c5(I + -\u03b2\u2081\u2082\u22c5\u0393\u2081))"
       ]
      }
     ],
     "prompt_number": 11
    },
    {
     "cell_type": "code",
     "collapsed": false,
     "input": [
      "expand(B(3))"
     ],
     "language": "python",
     "metadata": {},
     "outputs": [
      {
       "ename": "AttributeError",
       "evalue": "'MatAdd' object has no attribute 'expand'",
       "output_type": "pyerr",
       "traceback": [
        "\u001b[0;31m---------------------------------------------------------------------------\u001b[0m\n\u001b[0;31mAttributeError\u001b[0m                            Traceback (most recent call last)",
        "\u001b[0;32m<ipython-input-13-8a104432138b>\u001b[0m in \u001b[0;36m<module>\u001b[0;34m()\u001b[0m\n\u001b[0;32m----> 1\u001b[0;31m \u001b[0mexpand\u001b[0m\u001b[0;34m(\u001b[0m\u001b[0mB\u001b[0m\u001b[0;34m(\u001b[0m\u001b[0;36m3\u001b[0m\u001b[0;34m)\u001b[0m\u001b[0;34m)\u001b[0m\u001b[0;34m\u001b[0m\u001b[0m\n\u001b[0m",
        "\u001b[0;32m/usr/local/astro64/Library/Frameworks/Python.framework/Versions/2.7/lib/python2.7/site-packages/sympy/core/function.pyc\u001b[0m in \u001b[0;36mexpand\u001b[0;34m(e, deep, modulus, power_base, power_exp, mul, log, multinomial, basic, **hints)\u001b[0m\n\u001b[1;32m   1969\u001b[0m     \u001b[0mhints\u001b[0m\u001b[0;34m[\u001b[0m\u001b[0;34m'multinomial'\u001b[0m\u001b[0;34m]\u001b[0m \u001b[0;34m=\u001b[0m \u001b[0mmultinomial\u001b[0m\u001b[0;34m\u001b[0m\u001b[0m\n\u001b[1;32m   1970\u001b[0m     \u001b[0mhints\u001b[0m\u001b[0;34m[\u001b[0m\u001b[0;34m'basic'\u001b[0m\u001b[0;34m]\u001b[0m \u001b[0;34m=\u001b[0m \u001b[0mbasic\u001b[0m\u001b[0;34m\u001b[0m\u001b[0m\n\u001b[0;32m-> 1971\u001b[0;31m     \u001b[0;32mreturn\u001b[0m \u001b[0msympify\u001b[0m\u001b[0;34m(\u001b[0m\u001b[0me\u001b[0m\u001b[0;34m)\u001b[0m\u001b[0;34m.\u001b[0m\u001b[0mexpand\u001b[0m\u001b[0;34m(\u001b[0m\u001b[0mdeep\u001b[0m\u001b[0;34m=\u001b[0m\u001b[0mdeep\u001b[0m\u001b[0;34m,\u001b[0m \u001b[0mmodulus\u001b[0m\u001b[0;34m=\u001b[0m\u001b[0mmodulus\u001b[0m\u001b[0;34m,\u001b[0m \u001b[0;34m**\u001b[0m\u001b[0mhints\u001b[0m\u001b[0;34m)\u001b[0m\u001b[0;34m\u001b[0m\u001b[0m\n\u001b[0m\u001b[1;32m   1972\u001b[0m \u001b[0;34m\u001b[0m\u001b[0m\n\u001b[1;32m   1973\u001b[0m \u001b[0;31m# These are simple wrappers around single hints.\u001b[0m\u001b[0;34m\u001b[0m\u001b[0;34m\u001b[0m\u001b[0m\n",
        "\u001b[0;31mAttributeError\u001b[0m: 'MatAdd' object has no attribute 'expand'"
       ]
      }
     ],
     "prompt_number": 13
    },
    {
     "cell_type": "code",
     "collapsed": false,
     "input": [
      "B(4)"
     ],
     "language": "python",
     "metadata": {},
     "outputs": [
      {
       "latex": [
        "$$\\mathbb{I} + -1 \\left(\\beta_{14} \\Gamma_{1} + \\beta_{34} \\kappa_{3} \\left(\\mathbb{I} + -1 \\left(\\beta_{13} \\Gamma_{1} + \\beta_{23} \\Gamma_{2} \\left(\\mathbb{I} + - \\beta_{12} \\Gamma_{1}\\right)\\right)\\right) + \\beta_{24} \\Gamma_{2} \\left(\\mathbb{I} + - \\beta_{12} \\Gamma_{1}\\right)\\right)$$"
       ],
       "metadata": {},
       "output_type": "pyout",
       "png": "[encoded data removed]",
       "prompt_number": 14,
       "text": [
        "I + -(\u03b2\u2081\u2084\u22c5\u0393\u2081 + \u03b2\u2083\u2084\u22c5\u03ba\u2083\u22c5(I + -(\u03b2\u2081\u2083\u22c5\u0393\u2081 + \u03b2\u2082\u2083\u22c5\u0393\u2082\u22c5(I + -\u03b2\u2081\u2082\u22c5\u0393\u2081))) + \u03b2\u2082\u2084\u22c5\u0393\u2082\u22c5(I + -\u03b2\u2081\n",
        "\u2082\u22c5\u0393\u2081))"
       ]
      }
     ],
     "prompt_number": 14
    },
    {
     "cell_type": "code",
     "collapsed": false,
     "input": [
      "B(5)"
     ],
     "language": "python",
     "metadata": {},
     "outputs": [
      {
       "latex": [
        "$$\\mathbb{I} + -1 \\left(\\beta_{1\\ell} \\Gamma_{1} + \\beta_{3\\ell} \\kappa_{3} \\left(\\mathbb{I} + -1 \\left(\\beta_{13} \\Gamma_{1} + \\beta_{23} \\Gamma_{2} \\left(\\mathbb{I} + - \\beta_{12} \\Gamma_{1}\\right)\\right)\\right) + \\beta_{4\\ell} \\kappa_{4} \\left(\\mathbb{I} + -1 \\left(\\beta_{14} \\Gamma_{1} + \\beta_{34} \\kappa_{3} \\left(\\mathbb{I} + -1 \\left(\\beta_{13} \\Gamma_{1} + \\beta_{23} \\Gamma_{2} \\left(\\mathbb{I} + - \\beta_{12} \\Gamma_{1}\\right)\\right)\\right) + \\beta_{24} \\Gamma_{2} \\left(\\mathbb{I} + - \\beta_{12} \\Gamma_{1}\\right)\\right)\\right) + \\beta_{2\\ell} \\Gamma_{2} \\left(\\mathbb{I} + - \\beta_{12} \\Gamma_{1}\\right)\\right)$$"
       ],
       "metadata": {},
       "output_type": "pyout",
       "png": "[encoded data removed]",
       "prompt_number": 15,
       "text": [
        "I + -(\u03b2_1\\ell\u22c5\u0393\u2081 + \u03b2_3\\ell\u22c5\u03ba\u2083\u22c5(I + -(\u03b2\u2081\u2083\u22c5\u0393\u2081 + \u03b2\u2082\u2083\u22c5\u0393\u2082\u22c5(I + -\u03b2\u2081\u2082\u22c5\u0393\u2081))) + \u03b2_4\\ell\n",
        "\u22c5\u03ba\u2084\u22c5(I + -(\u03b2\u2081\u2084\u22c5\u0393\u2081 + \u03b2\u2083\u2084\u22c5\u03ba\u2083\u22c5(I + -(\u03b2\u2081\u2083\u22c5\u0393\u2081 + \u03b2\u2082\u2083\u22c5\u0393\u2082\u22c5(I + -\u03b2\u2081\u2082\u22c5\u0393\u2081))) + \u03b2\u2082\u2084\u22c5\u0393\u2082\u22c5(I \n",
        "+ -\u03b2\u2081\u2082\u22c5\u0393\u2081))) + \u03b2_2\\ell\u22c5\u0393\u2082\u22c5(I + -\u03b2\u2081\u2082\u22c5\u0393\u2081))"
       ]
      }
     ],
     "prompt_number": 15
    },
    {
     "cell_type": "code",
     "collapsed": false,
     "input": [
      "B(5) - B(2)"
     ],
     "language": "python",
     "metadata": {},
     "outputs": [
      {
       "latex": [
        "$$\\mathbb{I} + -1 \\left(\\mathbb{I} + - \\beta_{12} \\Gamma_{1}\\right) + -1 \\left(\\beta_{1\\ell} \\Gamma_{1} + \\beta_{3\\ell} \\kappa_{3} \\left(\\mathbb{I} + -1 \\left(\\beta_{13} \\Gamma_{1} + \\beta_{23} \\Gamma_{2} \\left(\\mathbb{I} + - \\beta_{12} \\Gamma_{1}\\right)\\right)\\right) + \\beta_{4\\ell} \\kappa_{4} \\left(\\mathbb{I} + -1 \\left(\\beta_{14} \\Gamma_{1} + \\beta_{34} \\kappa_{3} \\left(\\mathbb{I} + -1 \\left(\\beta_{13} \\Gamma_{1} + \\beta_{23} \\Gamma_{2} \\left(\\mathbb{I} + - \\beta_{12} \\Gamma_{1}\\right)\\right)\\right) + \\beta_{24} \\Gamma_{2} \\left(\\mathbb{I} + - \\beta_{12} \\Gamma_{1}\\right)\\right)\\right) + \\beta_{2\\ell} \\Gamma_{2} \\left(\\mathbb{I} + - \\beta_{12} \\Gamma_{1}\\right)\\right)$$"
       ],
       "metadata": {},
       "output_type": "pyout",
       "png": "[encoded data removed]",
       "prompt_number": 16,
       "text": [
        "I + -(I + -\u03b2\u2081\u2082\u22c5\u0393\u2081) + -(\u03b2_1\\ell\u22c5\u0393\u2081 + \u03b2_3\\ell\u22c5\u03ba\u2083\u22c5(I + -(\u03b2\u2081\u2083\u22c5\u0393\u2081 + \u03b2\u2082\u2083\u22c5\u0393\u2082\u22c5(I + -\u03b2\u2081\n",
        "\u2082\u22c5\u0393\u2081))) + \u03b2_4\\ell\u22c5\u03ba\u2084\u22c5(I + -(\u03b2\u2081\u2084\u22c5\u0393\u2081 + \u03b2\u2083\u2084\u22c5\u03ba\u2083\u22c5(I + -(\u03b2\u2081\u2083\u22c5\u0393\u2081 + \u03b2\u2082\u2083\u22c5\u0393\u2082\u22c5(I + -\u03b2\u2081\u2082\u22c5\u0393\n",
        "\u2081))) + \u03b2\u2082\u2084\u22c5\u0393\u2082\u22c5(I + -\u03b2\u2081\u2082\u22c5\u0393\u2081))) + \u03b2_2\\ell\u22c5\u0393\u2082\u22c5(I + -\u03b2\u2081\u2082\u22c5\u0393\u2081))"
       ]
      }
     ],
     "prompt_number": 16
    },
    {
     "cell_type": "code",
     "collapsed": false,
     "input": [
      "Cl(6)"
     ],
     "language": "python",
     "metadata": {},
     "outputs": [
      {
       "latex": [
        "$$\\mathbb{I}$$"
       ],
       "metadata": {},
       "output_type": "pyout",
       "png": "[encoded data removed]",
       "prompt_number": 17,
       "text": [
        "I"
       ]
      }
     ],
     "prompt_number": 17
    },
    {
     "cell_type": "code",
     "collapsed": false,
     "input": [
      "l = 1\n",
      "s = 6\n",
      "voids = [4,5]"
     ],
     "language": "python",
     "metadata": {},
     "outputs": [],
     "prompt_number": 18
    },
    {
     "cell_type": "code",
     "collapsed": false,
     "input": [
      "Cl(2)"
     ],
     "language": "python",
     "metadata": {},
     "outputs": [
      {
       "latex": [
        "$$\\beta_{\\ell2} \\mathbb{I}$$"
       ],
       "metadata": {},
       "output_type": "pyout",
       "png": "[encoded data removed]",
       "prompt_number": 19,
       "text": [
        "\u03b2_\\ell2\u22c5I"
       ]
      }
     ],
     "prompt_number": 19
    },
    {
     "cell_type": "code",
     "collapsed": false,
     "input": [
      "Cl(3)"
     ],
     "language": "python",
     "metadata": {},
     "outputs": [
      {
       "latex": [
        "$$\\beta_{\\ell3} \\mathbb{I} + - \\beta_{23} \\beta_{\\ell2} \\Gamma_{2}$$"
       ],
       "metadata": {},
       "output_type": "pyout",
       "png": "[encoded data removed]",
       "prompt_number": 20,
       "text": [
        "\u03b2_\\ell3\u22c5I + -\u03b2\u2082\u2083\u22c5\u03b2_\\ell2\u22c5\u0393\u2082"
       ]
      }
     ],
     "prompt_number": 20
    },
    {
     "cell_type": "code",
     "collapsed": false,
     "input": [
      "Cl(4)"
     ],
     "language": "python",
     "metadata": {},
     "outputs": [
      {
       "latex": [
        "$$-1 \\left(\\beta_{24} \\beta_{\\ell2} \\Gamma_{2} + \\beta_{34} \\Gamma_{3} \\left(\\beta_{\\ell3} \\mathbb{I} + - \\beta_{23} \\beta_{\\ell2} \\Gamma_{2}\\right)\\right) + \\beta_{\\ell4} \\mathbb{I}$$"
       ],
       "metadata": {},
       "output_type": "pyout",
       "png": "[encoded data removed]",
       "prompt_number": 21,
       "text": [
        "-(\u03b2\u2082\u2084\u22c5\u03b2_\\ell2\u22c5\u0393\u2082 + \u03b2\u2083\u2084\u22c5\u0393\u2083\u22c5(\u03b2_\\ell3\u22c5I + -\u03b2\u2082\u2083\u22c5\u03b2_\\ell2\u22c5\u0393\u2082)) + \u03b2_\\ell4\u22c5I"
       ]
      }
     ],
     "prompt_number": 21
    },
    {
     "cell_type": "code",
     "collapsed": false,
     "input": [
      "Cl(5)"
     ],
     "language": "python",
     "metadata": {},
     "outputs": [
      {
       "latex": [
        "$$-1 \\left(\\beta_{25} \\beta_{\\ell2} \\Gamma_{2} + \\beta_{45} \\kappa_{4} \\left(-1 \\left(\\beta_{24} \\beta_{\\ell2} \\Gamma_{2} + \\beta_{34} \\Gamma_{3} \\left(\\beta_{\\ell3} \\mathbb{I} + - \\beta_{23} \\beta_{\\ell2} \\Gamma_{2}\\right)\\right) + \\beta_{\\ell4} \\mathbb{I}\\right) + \\beta_{35} \\Gamma_{3} \\left(\\beta_{\\ell3} \\mathbb{I} + - \\beta_{23} \\beta_{\\ell2} \\Gamma_{2}\\right)\\right) + \\beta_{\\ell5} \\mathbb{I}$$"
       ],
       "metadata": {},
       "output_type": "pyout",
       "png": "[encoded data removed]",
       "prompt_number": 22,
       "text": [
        "-(\u03b2\u2082\u2085\u22c5\u03b2_\\ell2\u22c5\u0393\u2082 + \u03b2\u2084\u2085\u22c5\u03ba\u2084\u22c5(-(\u03b2\u2082\u2084\u22c5\u03b2_\\ell2\u22c5\u0393\u2082 + \u03b2\u2083\u2084\u22c5\u0393\u2083\u22c5(\u03b2_\\ell3\u22c5I + -\u03b2\u2082\u2083\u22c5\u03b2_\\ell2\n",
        "\u22c5\u0393\u2082)) + \u03b2_\\ell4\u22c5I) + \u03b2\u2083\u2085\u22c5\u0393\u2083\u22c5(\u03b2_\\ell3\u22c5I + -\u03b2\u2082\u2083\u22c5\u03b2_\\ell2\u22c5\u0393\u2082)) + \u03b2_\\ell5\u22c5I"
       ]
      }
     ],
     "prompt_number": 22
    },
    {
     "cell_type": "code",
     "collapsed": false,
     "input": [
      "Cl(6)"
     ],
     "language": "python",
     "metadata": {},
     "outputs": [
      {
       "latex": [
        "$$\\mathbb{I} + -1 \\left(\\beta_{\\ell2} \\Gamma_{2} + \\kappa_{4} \\left(-1 \\left(\\beta_{24} \\beta_{\\ell2} \\Gamma_{2} + \\beta_{34} \\Gamma_{3} \\left(\\beta_{\\ell3} \\mathbb{I} + - \\beta_{23} \\beta_{\\ell2} \\Gamma_{2}\\right)\\right) + \\beta_{\\ell4} \\mathbb{I}\\right) + \\kappa_{5} \\left(-1 \\left(\\beta_{25} \\beta_{\\ell2} \\Gamma_{2} + \\beta_{45} \\kappa_{4} \\left(-1 \\left(\\beta_{24} \\beta_{\\ell2} \\Gamma_{2} + \\beta_{34} \\Gamma_{3} \\left(\\beta_{\\ell3} \\mathbb{I} + - \\beta_{23} \\beta_{\\ell2} \\Gamma_{2}\\right)\\right) + \\beta_{\\ell4} \\mathbb{I}\\right) + \\beta_{35} \\Gamma_{3} \\left(\\beta_{\\ell3} \\mathbb{I} + - \\beta_{23} \\beta_{\\ell2} \\Gamma_{2}\\right)\\right) + \\beta_{\\ell5} \\mathbb{I}\\right) + \\Gamma_{3} \\left(\\beta_{\\ell3} \\mathbb{I} + - \\beta_{23} \\beta_{\\ell2} \\Gamma_{2}\\right)\\right)$$"
       ],
       "metadata": {},
       "output_type": "pyout",
       "png": "[encoded data removed]",
       "prompt_number": 23,
       "text": [
        "I + -(\u03b2_\\ell2\u22c5\u0393\u2082 + \u03ba\u2084\u22c5(-(\u03b2\u2082\u2084\u22c5\u03b2_\\ell2\u22c5\u0393\u2082 + \u03b2\u2083\u2084\u22c5\u0393\u2083\u22c5(\u03b2_\\ell3\u22c5I + -\u03b2\u2082\u2083\u22c5\u03b2_\\ell2\u22c5\u0393\u2082)\n",
        ") + \u03b2_\\ell4\u22c5I) + \u03ba\u2085\u22c5(-(\u03b2\u2082\u2085\u22c5\u03b2_\\ell2\u22c5\u0393\u2082 + \u03b2\u2084\u2085\u22c5\u03ba\u2084\u22c5(-(\u03b2\u2082\u2084\u22c5\u03b2_\\ell2\u22c5\u0393\u2082 + \u03b2\u2083\u2084\u22c5\u0393\u2083\u22c5(\u03b2_\\\n",
        "ell3\u22c5I + -\u03b2\u2082\u2083\u22c5\u03b2_\\ell2\u22c5\u0393\u2082)) + \u03b2_\\ell4\u22c5I) + \u03b2\u2083\u2085\u22c5\u0393\u2083\u22c5(\u03b2_\\ell3\u22c5I + -\u03b2\u2082\u2083\u22c5\u03b2_\\ell2\u22c5\u0393\u2082)\n",
        ") + \u03b2_\\ell5\u22c5I) + \u0393\u2083\u22c5(\u03b2_\\ell3\u22c5I + -\u03b2\u2082\u2083\u22c5\u03b2_\\ell2\u22c5\u0393\u2082))"
       ]
      }
     ],
     "prompt_number": 23
    },
    {
     "cell_type": "code",
     "collapsed": false,
     "input": [
      "expand(Cl(6))"
     ],
     "language": "python",
     "metadata": {},
     "outputs": [
      {
       "ename": "AttributeError",
       "evalue": "'MatAdd' object has no attribute 'expand'",
       "output_type": "pyerr",
       "traceback": [
        "\u001b[0;31m---------------------------------------------------------------------------\u001b[0m\n\u001b[0;31mAttributeError\u001b[0m                            Traceback (most recent call last)",
        "\u001b[0;32m<ipython-input-24-77a854763f65>\u001b[0m in \u001b[0;36m<module>\u001b[0;34m()\u001b[0m\n\u001b[0;32m----> 1\u001b[0;31m \u001b[0mexpand\u001b[0m\u001b[0;34m(\u001b[0m\u001b[0mCl\u001b[0m\u001b[0;34m(\u001b[0m\u001b[0;36m6\u001b[0m\u001b[0;34m)\u001b[0m\u001b[0;34m)\u001b[0m\u001b[0;34m\u001b[0m\u001b[0m\n\u001b[0m",
        "\u001b[0;32m/usr/local/astro64/Library/Frameworks/Python.framework/Versions/2.7/lib/python2.7/site-packages/sympy/core/function.pyc\u001b[0m in \u001b[0;36mexpand\u001b[0;34m(e, deep, modulus, power_base, power_exp, mul, log, multinomial, basic, **hints)\u001b[0m\n\u001b[1;32m   1969\u001b[0m     \u001b[0mhints\u001b[0m\u001b[0;34m[\u001b[0m\u001b[0;34m'multinomial'\u001b[0m\u001b[0;34m]\u001b[0m \u001b[0;34m=\u001b[0m \u001b[0mmultinomial\u001b[0m\u001b[0;34m\u001b[0m\u001b[0m\n\u001b[1;32m   1970\u001b[0m     \u001b[0mhints\u001b[0m\u001b[0;34m[\u001b[0m\u001b[0;34m'basic'\u001b[0m\u001b[0;34m]\u001b[0m \u001b[0;34m=\u001b[0m \u001b[0mbasic\u001b[0m\u001b[0;34m\u001b[0m\u001b[0m\n\u001b[0;32m-> 1971\u001b[0;31m     \u001b[0;32mreturn\u001b[0m \u001b[0msympify\u001b[0m\u001b[0;34m(\u001b[0m\u001b[0me\u001b[0m\u001b[0;34m)\u001b[0m\u001b[0;34m.\u001b[0m\u001b[0mexpand\u001b[0m\u001b[0;34m(\u001b[0m\u001b[0mdeep\u001b[0m\u001b[0;34m=\u001b[0m\u001b[0mdeep\u001b[0m\u001b[0;34m,\u001b[0m \u001b[0mmodulus\u001b[0m\u001b[0;34m=\u001b[0m\u001b[0mmodulus\u001b[0m\u001b[0;34m,\u001b[0m \u001b[0;34m**\u001b[0m\u001b[0mhints\u001b[0m\u001b[0;34m)\u001b[0m\u001b[0;34m\u001b[0m\u001b[0m\n\u001b[0m\u001b[1;32m   1972\u001b[0m \u001b[0;34m\u001b[0m\u001b[0m\n\u001b[1;32m   1973\u001b[0m \u001b[0;31m# These are simple wrappers around single hints.\u001b[0m\u001b[0;34m\u001b[0m\u001b[0;34m\u001b[0m\u001b[0m\n",
        "\u001b[0;31mAttributeError\u001b[0m: 'MatAdd' object has no attribute 'expand'"
       ]
      }
     ],
     "prompt_number": 24
    },
    {
     "cell_type": "code",
     "collapsed": false,
     "input": [],
     "language": "python",
     "metadata": {},
     "outputs": []
    }
   ],
   "metadata": {}
  }
 ]
}